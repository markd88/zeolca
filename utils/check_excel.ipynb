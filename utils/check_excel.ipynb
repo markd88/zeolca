{
 "cells": [
  {
   "cell_type": "code",
   "execution_count": 1,
   "id": "a3cc1110",
   "metadata": {},
   "outputs": [],
   "source": [
    "import pandas as pd\n",
    "import numpy as np"
   ]
  },
  {
   "cell_type": "code",
   "execution_count": 3,
   "id": "723e00b3",
   "metadata": {},
   "outputs": [
    {
     "data": {
      "text/plain": [
       "{'100',\n",
       " 'KWh',\n",
       " 'L',\n",
       " 'MJ',\n",
       " 'Nm3',\n",
       " 'W',\n",
       " 'floor',\n",
       " 'head·yr',\n",
       " 'kg',\n",
       " 'kg充绒量',\n",
       " 'm',\n",
       " 'm2',\n",
       " 'm3',\n",
       " 'night',\n",
       " 'person·km',\n",
       " 'piece',\n",
       " 't',\n",
       " 't-RE',\n",
       " 't·km',\n",
       " 'unit',\n",
       " 'vehicle',\n",
       " 'year.km2',\n",
       " '万件',\n",
       " '万支',\n",
       " '双',\n",
       " '本'}"
      ]
     },
     "execution_count": 3,
     "metadata": {},
     "output_type": "execute_result"
    }
   ],
   "source": [
    "data = pd.read_excel('output.xlsx')\n",
    "second = set()\n",
    "first = set()\n",
    "for idx, row in data.iterrows():\n",
    "  first.add(row['first'])\n",
    "  second.add(row['second'])\n",
    "\n",
    "second\n"
   ]
  }
 ],
 "metadata": {
  "kernelspec": {
   "display_name": "base",
   "language": "python",
   "name": "python3"
  },
  "language_info": {
   "codemirror_mode": {
    "name": "ipython",
    "version": 3
   },
   "file_extension": ".py",
   "mimetype": "text/x-python",
   "name": "python",
   "nbconvert_exporter": "python",
   "pygments_lexer": "ipython3",
   "version": "3.9.12 (main, Apr  4 2022, 05:22:27) [MSC v.1916 64 bit (AMD64)]"
  },
  "vscode": {
   "interpreter": {
    "hash": "ade27412e8c29a01587a151fe0ae8c46e2cb946e171fbe4e1a2481b4cbb4a991"
   }
  }
 },
 "nbformat": 4,
 "nbformat_minor": 5
}
